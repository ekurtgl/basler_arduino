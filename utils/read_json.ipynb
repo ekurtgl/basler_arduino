{
 "cells": [
  {
   "cell_type": "code",
   "execution_count": 1,
   "metadata": {},
   "outputs": [],
   "source": [
    "import json\n",
    "import pprint"
   ]
  },
  {
   "cell_type": "code",
   "execution_count": 5,
   "metadata": {},
   "outputs": [],
   "source": [
    "with open('/mnt/aperto/emre/Technical/FLY/cam_realtime/data/20240926_13_35_45_JB999/metadata.json', 'r') as file:\n",
    "    meta = json.load(file)"
   ]
  },
  {
   "cell_type": "code",
   "execution_count": 6,
   "metadata": {},
   "outputs": [
    {
     "name": "stdout",
     "output_type": "stream",
     "text": [
      "Num. frames: 840\n",
      "{'fps': 151.6990291262136,\n",
      " 'frame_number': 1,\n",
      " 'pylon_time_stamp': 3496706889498,\n",
      " 'time_stamp': '20240926_13_35_47.410101',\n",
      " 'time_stamp_w_offset': 1.3591943369938235}\n"
     ]
    }
   ],
   "source": [
    "print(f'Num. frames: {len(meta.keys())}')\n",
    "pprint.pprint(meta['1'])"
   ]
  },
  {
   "cell_type": "code",
   "execution_count": 5,
   "metadata": {},
   "outputs": [
    {
     "data": {
      "text/plain": [
       "{'time_stamp': '20240917_11_23_40.051037',\n",
       " 'width': 1248,\n",
       " 'height': 1248,\n",
       " 'fps': 119.99040076793857,\n",
       " 'frame_number': 144000,\n",
       " 'time_stamp_w_offset': 1235.4023114849856,\n",
       " 'pylon_time_stamp': 4008015893997}"
      ]
     },
     "execution_count": 5,
     "metadata": {},
     "output_type": "execute_result"
    }
   ],
   "source": [
    "frameid = '144000'\n",
    "meta[frameid]"
   ]
  },
  {
   "cell_type": "code",
   "execution_count": null,
   "metadata": {},
   "outputs": [],
   "source": []
  }
 ],
 "metadata": {
  "kernelspec": {
   "display_name": "fly",
   "language": "python",
   "name": "python3"
  },
  "language_info": {
   "codemirror_mode": {
    "name": "ipython",
    "version": 3
   },
   "file_extension": ".py",
   "mimetype": "text/x-python",
   "name": "python",
   "nbconvert_exporter": "python",
   "pygments_lexer": "ipython3",
   "version": "3.8.13"
  }
 },
 "nbformat": 4,
 "nbformat_minor": 2
}
