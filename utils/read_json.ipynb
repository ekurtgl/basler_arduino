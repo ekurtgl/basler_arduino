{
 "cells": [
  {
   "cell_type": "code",
   "execution_count": 1,
   "metadata": {},
   "outputs": [],
   "source": [
    "import json\n",
    "import pprint"
   ]
  },
  {
   "cell_type": "code",
   "execution_count": 2,
   "metadata": {},
   "outputs": [],
   "source": [
    "with open('/mnt/aperto/emre/Technical/FLY/cam_realtime/data/20241031_15_27_30_JB999/metadata_flir_0.json', 'r') as file:\n",
    "    meta = json.load(file)"
   ]
  },
  {
   "cell_type": "code",
   "execution_count": 6,
   "metadata": {},
   "outputs": [
    {
     "name": "stdout",
     "output_type": "stream",
     "text": [
      "Num. frames: 1680\n",
      "{'cam_clock_time_stamp': 470795432087,\n",
      " 'date_time_stamp': '20241031_15_27_35.234855',\n",
      " 'fps': 121.9071693972044,\n",
      " 'frame_ID': 132082126688928,\n",
      " 'frame_number': 401,\n",
      " 'time_stamp_w_offset': 938.034111732}\n"
     ]
    }
   ],
   "source": [
    "print(f'Num. frames: {len(meta.keys())}')\n",
    "pprint.pprint(meta['400'])"
   ]
  },
  {
   "cell_type": "code",
   "execution_count": 5,
   "metadata": {},
   "outputs": [
    {
     "data": {
      "text/plain": [
       "{'time_stamp': '20240917_11_23_40.051037',\n",
       " 'width': 1248,\n",
       " 'height': 1248,\n",
       " 'fps': 119.99040076793857,\n",
       " 'frame_number': 144000,\n",
       " 'time_stamp_w_offset': 1235.4023114849856,\n",
       " 'pylon_time_stamp': 4008015893997}"
      ]
     },
     "execution_count": 5,
     "metadata": {},
     "output_type": "execute_result"
    }
   ],
   "source": [
    "frameid = '144000'\n",
    "meta[frameid]"
   ]
  },
  {
   "cell_type": "code",
   "execution_count": null,
   "metadata": {},
   "outputs": [],
   "source": []
  }
 ],
 "metadata": {
  "kernelspec": {
   "display_name": "flir",
   "language": "python",
   "name": "python3"
  },
  "language_info": {
   "codemirror_mode": {
    "name": "ipython",
    "version": 3
   },
   "file_extension": ".py",
   "mimetype": "text/x-python",
   "name": "python",
   "nbconvert_exporter": "python",
   "pygments_lexer": "ipython3",
   "version": "3.10.15"
  }
 },
 "nbformat": 4,
 "nbformat_minor": 2
}
